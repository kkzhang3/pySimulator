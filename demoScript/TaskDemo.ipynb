{
 "cells": [
  {
   "cell_type": "markdown",
   "metadata": {},
   "source": [
    "## OPCGate脚本示例\n",
    "\n",
    ".ipynb 是jupyter notebook文件，可以使用jupyter notebook打开查看。\n",
    "\n",
    ".ipynb 具有交互性，可以用浏览器打开，可以直接运行代码块，并查看代码运行结果。\n",
    "\n",
    "在实际工程中，我们通常使用.py文件。"
   ]
  },
  {
   "cell_type": "code",
   "execution_count": 10,
   "metadata": {},
   "outputs": [
    {
     "name": "stdout",
     "output_type": "stream",
     "text": [
      "tjdcs.__version__ = '0.9.28'\n",
      "Hello World!\n",
      "2024-04-13 12:34:15 count: 0\n",
      "2024-04-13 12:34:16 count: 1\n",
      "2024-04-13 12:34:17 count: 2\n",
      "2024-04-13 12:34:18 count: 3\n",
      "2024-04-13 12:34:19 count: 4\n",
      "2024-04-13 12:34:20 count: 5\n",
      "2024-04-13 12:34:21 count: 6\n",
      "2024-04-13 12:34:22 count: 7\n",
      "2024-04-13 12:34:23 count: 8\n",
      "2024-04-13 12:34:24 count: 9\n",
      "2024-04-13 12:34:25 count: 10\n"
     ]
    },
    {
     "name": "stderr",
     "output_type": "stream",
     "text": [
      "[2024-04-13 12:34:26] [INFO] [__main__.Task_HelloWorld] 任务【__main__.Task_HelloWorld】已停止运行\n"
     ]
    },
    {
     "name": "stdout",
     "output_type": "stream",
     "text": [
      "2024-04-13 12:34:26 count: 11\n"
     ]
    }
   ],
   "source": [
    "# 示例脚本：OPCCalcTask脚本框架。\n",
    "from OPCGatePy.opc_calc_task import OPCCalcTask   \n",
    "import time,os,sys,inspect    \n",
    "import numpy as np    \n",
    "import tjdcs\n",
    "\n",
    "class Task_HelloWorld(OPCCalcTask):\n",
    "    def __init__(self, ip, port):\n",
    "        super().__init__(ip, port)\n",
    "        # 初始化时执行\n",
    "        self.set_sampling_time(1)  # 设置脚本的执行周期为1秒\n",
    "        print(f\"{tjdcs.__version__ = }\")    # 打印tjdcs的版本号\n",
    "        print(\"Hello World!\")    # 打印Hello World!\n",
    "        \n",
    "    def done(self):\n",
    "        # 每个采样时刻执行\n",
    "        print(f\"{time.strftime('%Y-%m-%d %H:%M:%S')} count: {self.get_done_count()}\")    # 打印当前时间\n",
    "        \n",
    "        # 以下代码设置了一个任务停止条件，实际工程中请删除\n",
    "        if self.get_done_count() > 10:\n",
    "            self.stop()\n",
    "\n",
    "task = Task_HelloWorld('127.0.0.1',9999)\n",
    "task.run()"
   ]
  },
  {
   "cell_type": "code",
   "execution_count": 12,
   "metadata": {},
   "outputs": [
    {
     "name": "stdout",
     "output_type": "stream",
     "text": [
      "tjdcs.__version__ = '0.9.28'\n",
      "Hello World!\n",
      "2024-04-13 12:34:27 db1=27.0, db2=1027.0\n",
      "2024-04-13 12:34:28 db1=28.0, db2=1028.0\n",
      "2024-04-13 12:34:29 db1=29.0, db2=1029.0\n",
      "2024-04-13 12:34:30 db1=30.0, db2=1030.0\n",
      "2024-04-13 12:34:31 db1=31.0, db2=1031.0\n",
      "2024-04-13 12:34:32 db1=32.0, db2=1032.0\n",
      "2024-04-13 12:34:33 db1=33.0, db2=1033.0\n",
      "2024-04-13 12:34:34 db1=34.0, db2=1034.0\n",
      "2024-04-13 12:34:35 db1=35.0, db2=1035.0\n",
      "2024-04-13 12:34:36 db1=36.0, db2=1036.0\n",
      "2024-04-13 12:34:37 db1=37.0, db2=1037.0\n"
     ]
    },
    {
     "name": "stderr",
     "output_type": "stream",
     "text": [
      "[2024-04-13 12:34:38] [INFO] [__main__.Task_SimpleCalc] 任务【__main__.Task_SimpleCalc】已停止运行\n"
     ]
    },
    {
     "name": "stdout",
     "output_type": "stream",
     "text": [
      "2024-04-13 12:34:38 db1=38.0, db2=1038.0\n"
     ]
    }
   ],
   "source": [
    "# 示例脚本：使用OPCGatePy库，实现一个简单的计算任务。\n",
    "from OPCGatePy.opc_calc_task import OPCCalcTask   \n",
    "import time,os,sys,inspect    \n",
    "import numpy as np    \n",
    "import tjdcs\n",
    "\n",
    "class Task_SimpleCalc(OPCCalcTask):\n",
    "    def __init__(self, ip, port):\n",
    "        super().__init__(ip, port)\n",
    "        # 初始化时执行\n",
    "        self.set_sampling_time(1)  # 设置脚本的执行周期为1秒\n",
    "        print(f\"{tjdcs.__version__ = }\")    # 打印tjdcs的版本号\n",
    "        print(\"Hello World!\")    # 打印Hello World!\n",
    "        \n",
    "    def done(self):\n",
    "        # 每个采样时刻执行\n",
    "        db1 = self.read_value('Demo.Random1')  # 读取OPCGate中Demo.Random1位号的值，Demo.Random1是OPCGate中的自带位号\n",
    "        db2 = db1 + 1000\n",
    "        self.write({'Demo.Tag1': db2})     # 将db2写入OPCGate中的Demo.Tag1位号，Demo.Tag1是OPCGate中的自带位号\n",
    "        print(f\"{time.strftime('%Y-%m-%d %H:%M:%S', time.localtime())} db1={db1}, db2={db2}\") # 打印当前时间，db1和db2的值\n",
    "        \n",
    "        # 以下代码设置了一个任务停止条件，实际工程中请删除\n",
    "        if self.get_done_count() > 10:\n",
    "            self.stop()\n",
    "\n",
    "task = Task_SimpleCalc('127.0.0.1',9999)\n",
    "task.run()"
   ]
  },
  {
   "cell_type": "code",
   "execution_count": 13,
   "metadata": {},
   "outputs": [
    {
     "name": "stdout",
     "output_type": "stream",
     "text": [
      "tjdcs.__version__ = '0.9.28'\n",
      "2024-04-13 12:34:39 db1=39.0, db2=0.17, db3=-0.66\n",
      "2024-04-13 12:34:40 db1=40.0, db2=0.43, db3=-0.13\n",
      "2024-04-13 12:34:41 db1=41.0, db2=0.34, db3=-0.32\n",
      "2024-04-13 12:34:42 db1=42.0, db2=0.77, db3=0.55\n",
      "2024-04-13 12:34:43 db1=43.0, db2=0.97, db3=0.95\n",
      "2024-04-13 12:34:44 db1=44.0, db2=0.32, db3=-0.36\n",
      "2024-04-13 12:34:45 db1=45.0, db2=0.71, db3=0.43\n",
      "2024-04-13 12:34:46 db1=46.0, db2=0.11, db3=-0.78\n",
      "2024-04-13 12:34:47 db1=46.0, db2=0.11, db3=-0.78\n",
      "2024-04-13 12:34:48 db1=47.0, db2=0.92, db3=0.85\n",
      "2024-04-13 12:34:49 db1=48.0, db2=0.7, db3=0.4\n"
     ]
    },
    {
     "name": "stderr",
     "output_type": "stream",
     "text": [
      "[2024-04-13 12:34:50] [INFO] [__main__.Task_ReadAndWrite] 任务【__main__.Task_ReadAndWrite】已停止运行\n"
     ]
    },
    {
     "name": "stdout",
     "output_type": "stream",
     "text": [
      "2024-04-13 12:34:50 db1=49.0, db2=0.55, db3=0.1\n"
     ]
    }
   ],
   "source": [
    "# 示例脚本：使用OPCGatePy库，实现创建位号以及多个位号的读取和写入。\n",
    "from OPCGatePy.opc_calc_task import OPCCalcTask   \n",
    "import time,os,sys,inspect    \n",
    "import numpy as np    \n",
    "import tjdcs\n",
    "\n",
    "class Task_ReadAndWrite(OPCCalcTask):\n",
    "    def __init__(self, ip, port):\n",
    "        super().__init__(ip, port)\n",
    "        # 初始化时执行\n",
    "        self.set_sampling_time(1)  # 设置脚本的执行周期为1秒\n",
    "        print(f\"{tjdcs.__version__ = }\")    # 打印tjdcs的版本号\n",
    "        self.write_and_create({'S1.Tag1': 0, 'S1.Tag2': 0, 'S1.Tag3': 0})    # 创建位号Demo.Tag1、Demo.Tag2、Demo.Tag3，初始值为0\n",
    "        \n",
    "    def done(self):\n",
    "        # 每个采样时刻执行\n",
    "        # 读取OPCGate中多个位号的值\n",
    "        db1, db2, db3 = self.read_value(['Demo.Random1', 'Demo.Random2', 'Demo.Random3'])  \n",
    "        # 将多个值写入OPCGate中\n",
    "        self.write({'S1.Tag1': db1,\n",
    "                    'S1.Tag2': db2,\n",
    "                    'S1.Tag3': db3})     \n",
    "        print(f\"{time.strftime('%Y-%m-%d %H:%M:%S', time.localtime())} db1={db1}, db2={db2}, db3={db3}\") # 打印当前时间\n",
    "        \n",
    "        # 以下代码设置了一个任务停止条件，实际工程中请删除\n",
    "        if self.get_done_count() > 10:\n",
    "            self.stop()\n",
    "\n",
    "task = Task_ReadAndWrite('127.0.0.1',9999)\n",
    "task.run()"
   ]
  },
  {
   "cell_type": "code",
   "execution_count": 14,
   "metadata": {},
   "outputs": [
    {
     "name": "stdout",
     "output_type": "stream",
     "text": [
      "tjdcs.__version__ = '0.9.28'\n",
      "G = 1.0/(10s+1), u = 50.0 --> y = 50.0\n",
      "G = 1.0/(10s+1), u = 51.0 --> y = 50.0\n",
      "G = 1.0/(10s+1), u = 52.0 --> y = 50.09516258196404\n",
      "G = 1.0/(10s+1), u = 53.0 --> y = 50.27643182888606\n",
      "G = 1.0/(10s+1), u = 54.0 --> y = 50.53561360820434\n",
      "G = 1.0/(10s+1), u = 56.0 --> y = 50.8652935621687\n",
      "G = 1.0/(10s+1), u = 57.0 --> y = 51.35392548442011\n",
      "G = 1.0/(10s+1), u = 58.0 --> y = 51.89122051328406\n",
      "G = 1.0/(10s+1), u = 59.0 --> y = 52.47254774188892\n",
      "G = 1.0/(10s+1), u = 0.0 --> y = 53.09371695241777\n",
      "G = 1.0/(10s+1), u = 1.0 --> y = 48.04118176115775\n"
     ]
    },
    {
     "name": "stderr",
     "output_type": "stream",
     "text": [
      "[2024-04-13 12:35:02] [INFO] [__main__.Task_SFilter] 任务【__main__.Task_SFilter】已停止运行\n"
     ]
    },
    {
     "name": "stdout",
     "output_type": "stream",
     "text": [
      "G = 1.0/(10s+1), u = 2.0 --> y = 43.56462144612626\n"
     ]
    }
   ],
   "source": [
    "# 示例脚本：使用OPCGatePy库和tjdcs库，实现信号滤波功能。\n",
    "from OPCGatePy.opc_calc_task import OPCCalcTask   \n",
    "import time,os,sys,inspect    \n",
    "import numpy as np    \n",
    "import tjdcs\n",
    "\n",
    "class Task_SFilter(OPCCalcTask):\n",
    "    def __init__(self, ip, port):\n",
    "        super().__init__(ip, port)\n",
    "        self.set_sampling_time(1)  # 设置脚本的执行周期为1秒\n",
    "        print(f\"{tjdcs.__version__ = }\")    # 打印tjdcs的版本号\n",
    "        \n",
    "        # 初始化一个连续滤波器，传递函数为 1/(10s+1)\n",
    "        self.sfil = tjdcs.sFilter(Bs = [1], As = [10.0, 1], Ts=self.get_sampling_time())\n",
    "               \n",
    "    def done(self):\n",
    "        u = self.read_value('Demo.Random1') # 读取OPCGate中Demo.Random1位号的值\n",
    "        y = self.sfil.run(u, y_ini=u)   # 滤波计算，制定初值为原值\n",
    "        self.write({'Demo.Tag5': y}) # 将滤波后的值写入OPCGate的Demo.Tag5位号\n",
    "\n",
    "        # 打印滤波前后的数据（非必须）\n",
    "        print(f\"G = 1.0/(10s+1), u = {u} --> y = {y}\")\n",
    "        \n",
    "        # 以下代码设置了一个任务停止条件，实际工程中请删除\n",
    "        if self.get_done_count() > 10:\n",
    "            self.stop()\n",
    "\n",
    "task = Task_SFilter('127.0.0.1',9999)\n",
    "task.run()\n"
   ]
  },
  {
   "cell_type": "code",
   "execution_count": 15,
   "metadata": {},
   "outputs": [
    {
     "name": "stdout",
     "output_type": "stream",
     "text": [
      "tjdcs.__version__ = '0.9.28'\n",
      "u = 3.0 --> y1=3.0, y2=3.0, y3=0.0, y4=3.0\n",
      "u = 4.0 --> y1=3.0, y2=3.3333333333333335, y3=1.0, y4=3.0\n",
      "u = 5.0 --> y1=3.0951625819640403, y2=4.0, y3=1.0, y4=3.0\n",
      "u = 6.0 --> y1=3.2764318288860586, y2=5.0, y3=1.0, y4=3.0\n",
      "u = 7.0 --> y1=3.5356136082043403, y2=6.0, y3=1.0, y4=4.0\n",
      "u = 8.0 --> y1=3.8652935621687012, y2=7.0, y3=1.0, y4=5.0\n",
      "u = 9.0 --> y1=4.258762902456067, y2=8.0, y3=1.0, y4=6.0\n",
      "u = 10.0 --> y1=4.70995126636204, y2=9.0, y3=1.0, y4=7.0\n",
      "u = 11.0 --> y1=5.213365962570631, y2=10.0, y3=1.0, y4=8.0\n",
      "u = 12.0 --> y1=5.764036998453409, y2=11.0, y3=1.0, y4=9.0\n",
      "u = 13.0 --> y1=6.35746733871281, y2=12.0, y3=1.0, y4=10.0\n",
      "u = 14.0 --> y1=6.989587897541367, y2=13.0, y3=1.0, y4=11.0\n",
      "u = 15.0 --> y1=7.656716813843287, y2=14.0, y3=1.0, y4=12.0\n",
      "u = 16.0 --> y1=8.355522601931085, y2=15.0, y3=1.0, y4=13.0\n",
      "u = 17.0 --> y1=9.082990808897073, y2=15.999999999999998, y3=1.0, y4=14.0\n",
      "u = 18.0 --> y1=9.836393844955467, y2=17.0, y3=1.0, y4=15.0\n",
      "u = 19.0 --> y1=10.613263684807036, y2=18.0, y3=1.0, y4=16.0\n",
      "u = 20.0 --> y1=11.41136716681238, y2=19.0, y3=1.0, y4=17.0\n",
      "u = 21.0 --> y1=12.228683642759645, y2=20.0, y3=1.0, y4=18.0\n",
      "u = 22.0 --> y1=13.063384754538058, y2=21.0, y3=1.0, y4=19.0\n",
      "u = 23.0 --> y1=13.913816135315423, y2=22.0, y3=1.0, y4=20.0\n"
     ]
    },
    {
     "name": "stderr",
     "output_type": "stream",
     "text": [
      "[2024-04-13 12:35:24] [INFO] [__main__.Task_ManyFilters] 任务【__main__.Task_ManyFilters】已停止运行\n"
     ]
    },
    {
     "name": "stdout",
     "output_type": "stream",
     "text": [
      "u = 24.0 --> y1=14.77848085207881, y2=23.0, y3=1.0, y4=21.0\n"
     ]
    }
   ],
   "source": [
    "# 示例脚本：信号滤波、滑动均值、差分、时延。\n",
    "from OPCGatePy.opc_calc_task import OPCCalcTask   \n",
    "import time,os,sys,inspect    \n",
    "import numpy as np    \n",
    "import tjdcs\n",
    "\n",
    "class Task_ManyFilters(OPCCalcTask):\n",
    "    def __init__(self, ip, port):\n",
    "        super().__init__(ip, port)\n",
    "        self.set_sampling_time(1)  # 设置脚本的执行周期为1秒\n",
    "        print(f\"{tjdcs.__version__ = }\")    # 打印tjdcs的版本号\n",
    "        \n",
    "        # y = 1/(10s+1)*u\n",
    "        self.sfil_tag1 = tjdcs.sFilter(Bs = [1], As = [10.0, 1], Ts=self.get_sampling_time())\n",
    "        \n",
    "        # y = 1/3*(u(k)+u(k-1)+u(k-2))\n",
    "        self.sfil_tag2 = tjdcs.zFilter(Bz = 1/3*np.ones(3), Az = [1])\n",
    "        \n",
    "        # y = u(k) - u(k-1)\n",
    "        self.sfil_tag3 = tjdcs.zFilter(Bz = [1, -1], Az = [1])\n",
    "        \n",
    "        # y = u(k-4)\n",
    "        self.sfil_tag4 = tjdcs.zFilter(Bz = [0,0,0,1], Az = [1])\n",
    "        \n",
    "    def done(self):\n",
    "        u = self.read_value('Demo.Random1')\n",
    "        y1 = self.sfil_tag1.run(u, y_ini=u)   \n",
    "        y2 = self.sfil_tag2.run(u, y_ini=u)\n",
    "        y3 = self.sfil_tag3.run(u, y_ini=0.0)\n",
    "        y4 = self.sfil_tag4.run(u, y_ini=u)\n",
    "        self.write({'Demo.Tag1': y1,\n",
    "                    'Demo.Tag2': y2,\n",
    "                    'Demo.Tag3': y3,\n",
    "                    'Demo.Tag4': y4})\n",
    "\n",
    "\n",
    "        # 打印滤波前后的数据（非必须）\n",
    "        print(f\"u = {u} --> {y1=}, {y2=}, {y3=}, {y4=}\")\n",
    "        \n",
    "        # 以下代码设置了一个任务停止条件，实际工程中请删除\n",
    "        if self.get_done_count() > 20:\n",
    "            self.stop()\n",
    "\n",
    "task = Task_ManyFilters('127.0.0.1',9999)\n",
    "task.run()"
   ]
  },
  {
   "cell_type": "code",
   "execution_count": 16,
   "metadata": {},
   "outputs": [
    {
     "name": "stdout",
     "output_type": "stream",
     "text": [
      "tjdcs.__version__ = '0.9.28'\n",
      "u = 25.0 --> y = 50.0\n",
      "u = 26.0 --> y = 52.0\n",
      "u = 27.0 --> y = 54.0\n",
      "u = 28.0 --> y = 56.0\n",
      "u = 29.0 --> y = 58.0\n",
      "u = 30.0 --> y = 60.0\n",
      "u = 31.0 --> y = 62.0\n",
      "u = 32.0 --> y = 64.0\n",
      "u = 33.0 --> y = 66.0\n",
      "u = 34.0 --> y = 68.0\n",
      "u = 35.0 --> y = 70.0\n",
      "u = 36.0 --> y = 72.0\n",
      "u = 37.0 --> y = 74.0\n",
      "u = 38.0 --> y = 76.0\n",
      "u = 39.0 --> y = 78.0\n",
      "u = 40.0 --> y = 80.0\n",
      "u = 41.0 --> y = 82.0\n",
      "u = 42.0 --> y = 84.0\n",
      "u = 43.0 --> y = 86.0\n",
      "u = 44.0 --> y = 88.0\n",
      "u = 45.0 --> y = 90.0\n"
     ]
    },
    {
     "name": "stderr",
     "output_type": "stream",
     "text": [
      "[2024-04-13 12:35:47] [INFO] [__main__.Task_FXY] 任务【__main__.Task_FXY】已停止运行\n"
     ]
    },
    {
     "name": "stdout",
     "output_type": "stream",
     "text": [
      "u = 46.0 --> y = 92.0\n"
     ]
    }
   ],
   "source": [
    "# 示例脚本：使用折线表。\n",
    "from OPCGatePy.opc_calc_task import OPCCalcTask   \n",
    "import time,os,sys,inspect    \n",
    "import numpy as np    \n",
    "import tjdcs\n",
    "\n",
    "class Task_FXY(OPCCalcTask):\n",
    "    def __init__(self, ip, port):\n",
    "        super().__init__(ip, port)\n",
    "        self.set_sampling_time(1)  # 设置脚本的执行周期为1秒\n",
    "        print(f\"{tjdcs.__version__ = }\")    # 打印tjdcs的版本号\n",
    "                       \n",
    "    def done(self):\n",
    "        u = self.read_value('Demo.Random1')\n",
    "        xp = [0, 10, 50,  100]  # 折线表的X轴，必须遵循从小到大。\n",
    "        fp = [0, 20, 100, 200]  # 折线表的Y轴，与X轴相对应。\n",
    "        y = np.interp(u, xp = xp, fp = fp)\n",
    "        self.write({'Demo.Tag7': y})\n",
    "\n",
    "        print(f\"u = {u} --> y = {y}\")\n",
    "        \n",
    "        # 以下代码设置了一个任务停止条件，实际工程中请删除\n",
    "        if self.get_done_count() > 20:\n",
    "            self.stop()\n",
    "\n",
    "task = Task_FXY('127.0.0.1',9999)\n",
    "task.run()"
   ]
  },
  {
   "cell_type": "code",
   "execution_count": 17,
   "metadata": {},
   "outputs": [
    {
     "name": "stdout",
     "output_type": "stream",
     "text": [
      "tjdcs.__version__ = '0.9.28'\n",
      "SP = 47.0, PV = 0.63 --> OP = 3.9796\n",
      "SP = 48.0, PV = 0.26 --> OP = 9.990800000000007\n",
      "SP = 49.0, PV = 0.19 --> OP = 15.42493333333334\n",
      "SP = 50.0, PV = 0.79 --> OP = 19.737288888888894\n",
      "SP = 51.0, PV = 0.12 --> OP = 26.250059259259267\n",
      "SP = 52.0, PV = 0.47 --> OP = 31.036706172839512\n",
      "SP = 53.0, PV = 0.05 --> OP = 37.20753744855968\n",
      "SP = 54.0, PV = 0.31 --> OP = 42.27262496570644\n",
      "SP = 55.0, PV = 0.88 --> OP = 46.91548331047096\n",
      "SP = 56.0, PV = 0.16 --> OP = 53.827522206980646\n",
      "SP = 57.0, PV = 0.88 --> OP = 58.331014804653755\n",
      "SP = 58.0, PV = 0.46 --> OP = 64.87947653643583\n",
      "SP = 59.0, PV = 0.85 --> OP = 70.10031769095721\n",
      "SP = 0.0, PV = 0.7 --> OP = 0.0\n",
      "SP = 1.0, PV = 0.81 --> OP = 9.050684957565055\n",
      "SP = 2.0, PV = 0.19 --> OP = 16.743141595941758\n",
      "SP = 3.0, PV = 0.0 --> OP = 21.974912688192894\n",
      "SP = 4.0, PV = 0.97 --> OP = 24.165160083026986\n",
      "SP = 5.0, PV = 0.33 --> OP = 28.42532501291638\n",
      "SP = 6.0, PV = 0.47 --> OP = 30.86676829950931\n",
      "SP = 7.0, PV = 0.58 --> OP = 33.105063823904594\n"
     ]
    },
    {
     "name": "stderr",
     "output_type": "stream",
     "text": [
      "[2024-04-13 12:36:09] [INFO] [__main__.Task_PID] 任务【__main__.Task_PID】已停止运行\n"
     ]
    },
    {
     "name": "stdout",
     "output_type": "stream",
     "text": [
      "SP = 8.0, PV = 0.9 --> OP = 34.842860840168115\n"
     ]
    }
   ],
   "source": [
    "# 示例脚本：使用PID\n",
    "from OPCGatePy.opc_calc_task import OPCCalcTask   \n",
    "import time,os,sys,inspect    \n",
    "import numpy as np    \n",
    "import tjdcs\n",
    "\n",
    "class Task_PID(OPCCalcTask):\n",
    "    def __init__(self, ip, port):\n",
    "        super().__init__(ip, port)\n",
    "        self.set_sampling_time(1)  # 设置脚本的执行周期为1秒\n",
    "        print(f\"{tjdcs.__version__ = }\")    # 打印tjdcs的版本号\n",
    "        \n",
    "        self.TIC12345 = tjdcs.PID()\n",
    "               \n",
    "    def done(self):\n",
    "        # 写每一采样时间运行脚本的内容\n",
    "        sp_value = self.read_value(\"Demo.Random1\")\n",
    "        pv_value = self.read_value(\"Demo.Random2\")\n",
    "        tv_value = self.read_value(\"Demo.Random3\")\n",
    "\n",
    "        self.TIC12345.setPIDParam(KP = 1.2, TI = 15.0, TD = 1.0, N = 0.5)\n",
    "        self.TIC12345.setOPHighLowLimit(OP_HI = 100.0, OP_LO = 0.0)\n",
    "        op_value = self.TIC12345.run(MODE=1, SP=sp_value, PV=pv_value, TV=tv_value)\n",
    "        self.write({\"Demo.Tag9\": op_value})\n",
    "\n",
    "        # 打印输入输出数据（非必须）\n",
    "        print(f\"SP = {sp_value}, PV = {pv_value} --> OP = {op_value}\")\n",
    "        \n",
    "        # 以下代码设置了一个任务停止条件，实际工程中请删除\n",
    "        if self.get_done_count() > 20:\n",
    "            self.stop()\n",
    "\n",
    "task = Task_PID('127.0.0.1',9999)\n",
    "task.run()"
   ]
  }
 ],
 "metadata": {
  "kernelspec": {
   "display_name": "Python 3 (ipykernel)",
   "language": "python",
   "name": "python3"
  },
  "language_info": {
   "codemirror_mode": {
    "name": "ipython",
    "version": 3
   },
   "file_extension": ".py",
   "mimetype": "text/x-python",
   "name": "python",
   "nbconvert_exporter": "python",
   "pygments_lexer": "ipython3",
   "version": "3.12.2"
  },
  "vscode": {
   "interpreter": {
    "hash": "047a1e2b688856665705001bc158ae422a27f52f528a2811e0e4c9eb4b59b708"
   }
  }
 },
 "nbformat": 4,
 "nbformat_minor": 2
}
