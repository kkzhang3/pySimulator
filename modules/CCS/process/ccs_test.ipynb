{
 "cells": [
  {
   "cell_type": "code",
   "execution_count": 2,
   "metadata": {},
   "outputs": [
    {
     "name": "stdout",
     "output_type": "stream",
     "text": [
      "CCS.MW {'CCS.BD': {'mode': 'tf_s', 'num_s': array([37.9598211,  1.6227   ]), 'den_s': [16493.0, 374.37, 1], 'iodelay_s': 88}, 'CCS.TD': {'mode': 'tf_s', 'num_s': array([9.22052488e+03, 9.51561464e+02, 1.58480000e-01]), 'den_s': [5071.7, 4196.3, 260.89, 1], 'iodelay_s': 0}}\n",
      "CCS.PR {'CCS.BD': {'mode': 'tf_s', 'num_s': array([1.68648588, 0.10908   ]), 'den_s': [9389.6, 242.59, 1], 'iodelay_s': 62}, 'CCS.TD': {'mode': 'tf_s', 'num_s': array([-26.98816275,  -0.44325   ]), 'den_s': [3627.6, 193.85, 1], 'iodelay_s': 1}}\n"
     ]
    }
   ],
   "source": [
    "from ccsmodel import ccs_plant\n",
    "for k,v in ccs_plant.items():\n",
    "    print(k,v)"
   ]
  }
 ],
 "metadata": {
  "kernelspec": {
   "display_name": "Python 3",
   "language": "python",
   "name": "python3"
  },
  "language_info": {
   "codemirror_mode": {
    "name": "ipython",
    "version": 3
   },
   "file_extension": ".py",
   "mimetype": "text/x-python",
   "name": "python",
   "nbconvert_exporter": "python",
   "pygments_lexer": "ipython3",
   "version": "3.12.2"
  }
 },
 "nbformat": 4,
 "nbformat_minor": 2
}
