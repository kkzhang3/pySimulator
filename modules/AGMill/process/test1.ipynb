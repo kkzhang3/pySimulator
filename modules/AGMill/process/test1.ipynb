{
 "cells": [
  {
   "cell_type": "code",
   "execution_count": 1,
   "metadata": {},
   "outputs": [],
   "source": [
    "import numpy as np\n",
    "from AGMill_model import AGMPower_Model"
   ]
  },
  {
   "cell_type": "code",
   "execution_count": 3,
   "metadata": {},
   "outputs": [
    {
     "data": {
      "text/plain": [
       "{'FreshFeedWeight': {'mode': 'tf_s',\n",
       "  'num_s': [0, 0.004545454545454545],\n",
       "  'den_s': [220, 1],\n",
       "  'iodelay_s': 1200},\n",
       " 'CRU1Weight': {'mode': 'tf_s',\n",
       "  'num_s': [0, 0.0033333333333333335],\n",
       "  'den_s': [190, 1],\n",
       "  'iodelay_s': 600},\n",
       " 'BypassWeight': {'mode': 'tf_s',\n",
       "  'num_s': [0, 0.006666666666666667],\n",
       "  'den_s': [230, 1],\n",
       "  'iodelay_s': 600},\n",
       " 'AGMSpeed': {'mode': 'tf_s',\n",
       "  'num_s': [0, 3.3333333333333335],\n",
       "  'den_s': [220, 1],\n",
       "  'iodelay_s': 60},\n",
       " 'CYCWeight': {'mode': 'tf_s',\n",
       "  'num_s': [0, 0.0025],\n",
       "  'den_s': [130, 1],\n",
       "  'iodelay_s': 180},\n",
       " 'F80': {'mode': 'tf_s',\n",
       "  'num_s': [0, 0.016666666666666666],\n",
       "  'den_s': [300, 1],\n",
       "  'iodelay_s': 1200}}"
      ]
     },
     "execution_count": 3,
     "metadata": {},
     "output_type": "execute_result"
    }
   ],
   "source": [
    "AGMPower_Model['AGMPower']"
   ]
  },
  {
   "cell_type": "code",
   "execution_count": 4,
   "metadata": {},
   "outputs": [
    {
     "data": {
      "text/plain": [
       "{'FreshFeedWeight': {'mode': 'tf_s',\n",
       "  'num_s': [0, 1.3333333333333333],\n",
       "  'den_s': [180, 1],\n",
       "  'iodelay_s': 1200},\n",
       " 'CRU1Weight': {'mode': 'tf_s',\n",
       "  'num_s': [0, 0.625],\n",
       "  'den_s': [150, 1],\n",
       "  'iodelay_s': 600},\n",
       " 'BypassWeight': {'mode': 'tf_s',\n",
       "  'num_s': [0, 1.5384615384615385],\n",
       "  'den_s': [200, 1],\n",
       "  'iodelay_s': 600},\n",
       " 'AGMSpeed': {'mode': 'tf_s',\n",
       "  'num_s': [0, 666.6666666666667],\n",
       "  'den_s': [80, 1],\n",
       "  'iodelay_s': 60},\n",
       " 'CYCWeight': {'mode': 'tf_s',\n",
       "  'num_s': [0, 0.47619047619047616],\n",
       "  'den_s': [100, 1],\n",
       "  'iodelay_s': 180},\n",
       " 'F80': {'mode': 'tf_s',\n",
       "  'num_s': [0, 2.857142857142857],\n",
       "  'den_s': [300, 1],\n",
       "  'iodelay_s': 1200}}"
      ]
     },
     "execution_count": 4,
     "metadata": {},
     "output_type": "execute_result"
    }
   ],
   "source": [
    "AGMPower_Model['AGMCurrent']"
   ]
  },
  {
   "cell_type": "code",
   "execution_count": 5,
   "metadata": {},
   "outputs": [
    {
     "data": {
      "text/plain": [
       "{'FreshFeedWeight': {'mode': 'tf_s',\n",
       "  'num_s': [0, 0.25],\n",
       "  'den_s': [120, 1],\n",
       "  'iodelay_s': 1200},\n",
       " 'CRU1Weight': {'mode': 'tf_s',\n",
       "  'num_s': [0, 0.1],\n",
       "  'den_s': [120, 1],\n",
       "  'iodelay_s': 600},\n",
       " 'BypassWeight': {'mode': 'tf_s',\n",
       "  'num_s': [0, 0.4],\n",
       "  'den_s': [120, 1],\n",
       "  'iodelay_s': 600},\n",
       " 'CYCWeight': {'mode': 'tf_s',\n",
       "  'num_s': [0, 0.1],\n",
       "  'den_s': [80, 1],\n",
       "  'iodelay_s': 180}}"
      ]
     },
     "execution_count": 5,
     "metadata": {},
     "output_type": "execute_result"
    }
   ],
   "source": [
    "AGMPower_Model['AGMWeight']"
   ]
  }
 ],
 "metadata": {
  "kernelspec": {
   "display_name": "Python 3",
   "language": "python",
   "name": "python3"
  },
  "language_info": {
   "codemirror_mode": {
    "name": "ipython",
    "version": 3
   },
   "file_extension": ".py",
   "mimetype": "text/x-python",
   "name": "python",
   "nbconvert_exporter": "python",
   "pygments_lexer": "ipython3",
   "version": "3.12.1"
  }
 },
 "nbformat": 4,
 "nbformat_minor": 2
}
