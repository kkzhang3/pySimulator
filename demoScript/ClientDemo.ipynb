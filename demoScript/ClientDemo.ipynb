{
 "cells": [
  {
   "cell_type": "code",
   "execution_count": 3,
   "metadata": {},
   "outputs": [
    {
     "name": "stdout",
     "output_type": "stream",
     "text": [
      "12248.0\n",
      "[('Demo.Count1', 12248.0, 'Good', 1712983509.1790977)]\n"
     ]
    }
   ],
   "source": [
    "from OPCGatePy.gate_client import OPCGateClient\n",
    "c = OPCGateClient('127.0.0.1', 9999)\n",
    "val = c.read_value(\"Demo.Count1\")\n",
    "print(val)\n",
    "full_val = c.read(\"Demo.Count1\")\n",
    "print(full_val)"
   ]
  },
  {
   "cell_type": "code",
   "execution_count": 4,
   "metadata": {},
   "outputs": [
    {
     "name": "stdout",
     "output_type": "stream",
     "text": [
      "(12297.0, 204.96169386833333, 3.4160282311388888)\n",
      "[('Demo.Count1', 12297.0, 'Good', 1712983558.5150456), ('Demo.Count2', 204.96169386833333, 'Good', 1712983558.5150456), ('Demo.Count3', 3.4160282311388888, 'Good', 1712983558.5150456)]\n"
     ]
    }
   ],
   "source": [
    "from OPCGatePy.gate_client import OPCGateClient\n",
    "c = OPCGateClient('127.0.0.1', 9999)\n",
    "val = c.read_value([\"Demo.Count1\", \"Demo.Count2\", \"Demo.Count3\"])\n",
    "print(val)\n",
    "full_val = c.read([\"Demo.Count1\", \"Demo.Count2\", \"Demo.Count3\"])\n",
    "print(full_val)"
   ]
  },
  {
   "cell_type": "code",
   "execution_count": 5,
   "metadata": {},
   "outputs": [],
   "source": [
    "from OPCGatePy.gate_client import OPCGateClient\n",
    "c = OPCGateClient('127.0.0.1', 9999)\n",
    "c.write_and_create({'S1.Tag10': 10})"
   ]
  },
  {
   "cell_type": "code",
   "execution_count": null,
   "metadata": {},
   "outputs": [],
   "source": []
  }
 ],
 "metadata": {
  "kernelspec": {
   "display_name": "Python 3.8.5 32-bit (system)",
   "language": "python",
   "name": "python3"
  },
  "language_info": {
   "codemirror_mode": {
    "name": "ipython",
    "version": 3
   },
   "file_extension": ".py",
   "mimetype": "text/x-python",
   "name": "python",
   "nbconvert_exporter": "python",
   "pygments_lexer": "ipython3",
   "version": "3.12.2"
  },
  "orig_nbformat": 4,
  "vscode": {
   "interpreter": {
    "hash": "047a1e2b688856665705001bc158ae422a27f52f528a2811e0e4c9eb4b59b708"
   }
  }
 },
 "nbformat": 4,
 "nbformat_minor": 2
}
